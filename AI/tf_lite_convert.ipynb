{
 "cells": [
  {
   "cell_type": "code",
   "execution_count": 1,
   "metadata": {},
   "outputs": [],
   "source": [
    "import tensorflow as tf\n",
    "from sys import getsizeof\n",
    "import os\n",
    "import h5py\n",
    "import matplotlib.pyplot as plt\n",
    "from sklearn.metrics import accuracy_score\n",
    "import numpy as np"
   ]
  },
  {
   "cell_type": "code",
   "execution_count": 2,
   "metadata": {},
   "outputs": [],
   "source": [
    "SEQ_LEN = 10\n",
    "X = np.load(f'AI/data/X_holistic_seq_{SEQ_LEN}.npy').astype('float32')\n",
    "base_y = np.load(f'AI/data/y_holistic_seq_{SEQ_LEN}.npy').astype('float32')\n",
    "y = tf.keras.utils.to_categorical(base_y).astype('float32')"
   ]
  },
  {
   "cell_type": "code",
   "execution_count": 3,
   "metadata": {},
   "outputs": [
    {
     "data": {
      "text/plain": [
       "(3871, 10, 1662)"
      ]
     },
     "execution_count": 3,
     "metadata": {},
     "output_type": "execute_result"
    }
   ],
   "source": [
    "X.shape"
   ]
  },
  {
   "cell_type": "code",
   "execution_count": 3,
   "metadata": {},
   "outputs": [],
   "source": [
    "def get_size(file_path):\n",
    "    size =  os.path.getsize(file_path)\n",
    "    print(f'File size: {round(size/1024, 3)} KB')\n",
    "\n",
    "def get_accuracy(model):\n",
    "    loss, acc = model.evaluate(X, y, verbose=2)\n",
    "    print(f'Accuracy: {round(100*acc, 2)}')"
   ]
  },
  {
   "cell_type": "code",
   "execution_count": 4,
   "metadata": {},
   "outputs": [
    {
     "name": "stdout",
     "output_type": "stream",
     "text": [
      "WARNING:tensorflow:Layer lstm will not use cuDNN kernels since it doesn't meet the criteria. It will use a generic GPU kernel as fallback when running on GPU.\n",
      "WARNING:tensorflow:Layer lstm_1 will not use cuDNN kernels since it doesn't meet the criteria. It will use a generic GPU kernel as fallback when running on GPU.\n",
      "WARNING:tensorflow:Layer lstm_2 will not use cuDNN kernels since it doesn't meet the criteria. It will use a generic GPU kernel as fallback when running on GPU.\n"
     ]
    },
    {
     "name": "stdout",
     "output_type": "stream",
     "text": [
      "File size: 4817.531 KB\n"
     ]
    }
   ],
   "source": [
    "MODEL_PATH = 'AI/models/final_lstm_model___Date_Time_2023_06_19__13_31_39___Loss_0.998094916343689___Accuracy_0.6675257682800293.h5'\n",
    "keras_model = tf.keras.saving.load_model(MODEL_PATH)\n",
    "get_size(MODEL_PATH)\n",
    "# get_accuracy(keras_model)"
   ]
  },
  {
   "cell_type": "code",
   "execution_count": 5,
   "metadata": {},
   "outputs": [
    {
     "name": "stderr",
     "output_type": "stream",
     "text": [
      "WARNING:absl:Found untraced functions such as lstm_cell_3_layer_call_fn, lstm_cell_3_layer_call_and_return_conditional_losses, lstm_cell_4_layer_call_fn, lstm_cell_4_layer_call_and_return_conditional_losses, lstm_cell_5_layer_call_fn while saving (showing 5 of 6). These functions will not be directly callable after loading.\n"
     ]
    },
    {
     "name": "stdout",
     "output_type": "stream",
     "text": [
      "INFO:tensorflow:Assets written to: /var/folders/k1/_k87wym92vxg5hl9vzj9cz3h0000gn/T/tmpdl0_v3h3/assets\n"
     ]
    },
    {
     "name": "stderr",
     "output_type": "stream",
     "text": [
      "INFO:tensorflow:Assets written to: /var/folders/k1/_k87wym92vxg5hl9vzj9cz3h0000gn/T/tmpdl0_v3h3/assets\n",
      "2023-06-19 13:40:25.218922: W tensorflow/compiler/mlir/lite/python/tf_tfl_flatbuffer_helpers.cc:364] Ignored output_format.\n",
      "2023-06-19 13:40:25.219156: W tensorflow/compiler/mlir/lite/python/tf_tfl_flatbuffer_helpers.cc:367] Ignored drop_control_dependency.\n",
      "2023-06-19 13:40:25.350458: W tensorflow/tsl/platform/profile_utils/cpu_utils.cc:128] Failed to get CPU frequency: 0 Hz\n"
     ]
    },
    {
     "name": "stdout",
     "output_type": "stream",
     "text": [
      "File size: 1706.629 KB\n"
     ]
    }
   ],
   "source": [
    "TF_LITE_MODEL_NAME = 'AI/models/final_model.tflite'\n",
    "\n",
    "tf_lite_converter = tf.lite.TFLiteConverter.from_keras_model(keras_model)\n",
    "\n",
    "tflite_model = tf_lite_converter.convert()\n",
    "\n",
    "open(TF_LITE_MODEL_NAME, 'wb').write(tflite_model)\n",
    "\n",
    "get_size(TF_LITE_MODEL_NAME)"
   ]
  },
  {
   "cell_type": "code",
   "execution_count": 70,
   "metadata": {},
   "outputs": [
    {
     "data": {
      "text/plain": [
       "([{'name': 'serving_default_input_1:0',\n",
       "   'index': 0,\n",
       "   'shape': array([  1,  10, 132], dtype=int32),\n",
       "   'shape_signature': array([ -1,  10, 132], dtype=int32),\n",
       "   'dtype': numpy.float32,\n",
       "   'quantization': (0.0, 0),\n",
       "   'quantization_parameters': {'scales': array([], dtype=float32),\n",
       "    'zero_points': array([], dtype=int32),\n",
       "    'quantized_dimension': 0},\n",
       "   'sparsity_parameters': {}}],\n",
       " [{'name': 'StatefulPartitionedCall:0',\n",
       "   'index': 283,\n",
       "   'shape': array([1, 8], dtype=int32),\n",
       "   'shape_signature': array([-1,  8], dtype=int32),\n",
       "   'dtype': numpy.float32,\n",
       "   'quantization': (0.0, 0),\n",
       "   'quantization_parameters': {'scales': array([], dtype=float32),\n",
       "    'zero_points': array([], dtype=int32),\n",
       "    'quantized_dimension': 0},\n",
       "   'sparsity_parameters': {}}])"
      ]
     },
     "execution_count": 70,
     "metadata": {},
     "output_type": "execute_result"
    }
   ],
   "source": [
    "interpreter = tf.lite.Interpreter(TF_LITE_MODEL_NAME)\n",
    "interpreter.get_input_details(), interpreter.get_output_details()"
   ]
  },
  {
   "cell_type": "code",
   "execution_count": 71,
   "metadata": {},
   "outputs": [
    {
     "data": {
      "text/plain": [
       "([{'name': 'serving_default_input_1:0',\n",
       "   'index': 0,\n",
       "   'shape': array([3834,   10,  132], dtype=int32),\n",
       "   'shape_signature': array([ -1,  10, 132], dtype=int32),\n",
       "   'dtype': numpy.float32,\n",
       "   'quantization': (0.0, 0),\n",
       "   'quantization_parameters': {'scales': array([], dtype=float32),\n",
       "    'zero_points': array([], dtype=int32),\n",
       "    'quantized_dimension': 0},\n",
       "   'sparsity_parameters': {}}],\n",
       " [{'name': 'StatefulPartitionedCall:0',\n",
       "   'index': 283,\n",
       "   'shape': array([3834,    8], dtype=int32),\n",
       "   'shape_signature': array([-1,  8], dtype=int32),\n",
       "   'dtype': numpy.float32,\n",
       "   'quantization': (0.0, 0),\n",
       "   'quantization_parameters': {'scales': array([], dtype=float32),\n",
       "    'zero_points': array([], dtype=int32),\n",
       "    'quantized_dimension': 0},\n",
       "   'sparsity_parameters': {}}])"
      ]
     },
     "execution_count": 71,
     "metadata": {},
     "output_type": "execute_result"
    }
   ],
   "source": [
    "interpreter.resize_tensor_input(interpreter.get_input_details()[0]['index'], X.shape)\n",
    "interpreter.resize_tensor_input(interpreter.get_output_details()[0]['index'], y.shape)\n",
    "interpreter.allocate_tensors()\n",
    "interpreter.get_input_details(), interpreter.get_output_details()"
   ]
  },
  {
   "cell_type": "code",
   "execution_count": 72,
   "metadata": {},
   "outputs": [],
   "source": [
    "interpreter.set_tensor(interpreter.get_input_details()[0]['index'], X)\n",
    "interpreter.invoke()\n",
    "predictions = interpreter.get_tensor(interpreter.get_output_details()[0]['index'])\n",
    "\n",
    "predictions_classes = np.argmax(predictions, axis=1)\n",
    "acc = accuracy_score(predictions_classes, base_y)"
   ]
  },
  {
   "cell_type": "code",
   "execution_count": 73,
   "metadata": {},
   "outputs": [
    {
     "name": "stdout",
     "output_type": "stream",
     "text": [
      "File size: 711.844 KB\n",
      "Accuracy: 73.84\n"
     ]
    }
   ],
   "source": [
    "get_size(TF_LITE_MODEL_NAME)\n",
    "print(f'Accuracy: {round(acc*100, 2)}')"
   ]
  }
 ],
 "metadata": {
  "kernelspec": {
   "display_name": "aienv",
   "language": "python",
   "name": "python3"
  },
  "language_info": {
   "codemirror_mode": {
    "name": "ipython",
    "version": 3
   },
   "file_extension": ".py",
   "mimetype": "text/x-python",
   "name": "python",
   "nbconvert_exporter": "python",
   "pygments_lexer": "ipython3",
   "version": "3.10.11"
  },
  "orig_nbformat": 4
 },
 "nbformat": 4,
 "nbformat_minor": 2
}
