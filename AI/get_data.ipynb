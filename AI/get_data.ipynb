{
 "cells": [
  {
   "cell_type": "code",
   "execution_count": 1,
   "metadata": {},
   "outputs": [],
   "source": [
    "import mediapipe as mp\n",
    "import cv2\n",
    "import numpy as np\n",
    "import matplotlib.pyplot as plt\n",
    "import os\n",
    "import numpy as np"
   ]
  },
  {
   "cell_type": "code",
   "execution_count": 2,
   "metadata": {},
   "outputs": [
    {
     "name": "stderr",
     "output_type": "stream",
     "text": [
      "INFO: Created TensorFlow Lite XNNPACK delegate for CPU.\n"
     ]
    }
   ],
   "source": [
    "data_path = \"DATASETS/FYPD\"\n",
    "SEQ_LEN = 10\n",
    "\n",
    "mp_pose = mp.solutions.pose\n",
    "pose = mp_pose.Pose(static_image_mode=False, min_detection_confidence=0.5, min_tracking_confidence=0.5)\n",
    "\n",
    "mp_holistic = mp.solutions.holistic\n",
    "holistic = mp_holistic.Holistic(static_image_mode=False, min_detection_confidence=0.7, min_tracking_confidence=0.5)\n",
    "\n",
    "mp_draw = mp.solutions.drawing_utils"
   ]
  },
  {
   "cell_type": "code",
   "execution_count": 3,
   "metadata": {},
   "outputs": [
    {
     "data": {
      "text/plain": [
       "['Fall Down',\n",
       " 'Sit down',\n",
       " 'Walking',\n",
       " 'Lying Down',\n",
       " 'Stand up',\n",
       " 'Standing',\n",
       " 'Sitting',\n",
       " 'Chest Pain',\n",
       " 'Coughing']"
      ]
     },
     "execution_count": 3,
     "metadata": {},
     "output_type": "execute_result"
    }
   ],
   "source": [
    "classes = os.listdir(data_path)\n",
    "if '.DS_Store' in classes:\n",
    "    classes.remove('.DS_Store')  \n",
    "classes"
   ]
  },
  {
   "cell_type": "code",
   "execution_count": 7,
   "metadata": {},
   "outputs": [],
   "source": [
    "def draw(image, results):\n",
    "    spec = mp_draw.DrawingSpec(color=(255, 255, 255), thickness=0, circle_radius=0)\n",
    "    mp_draw.draw_landmarks(image, results.face_landmarks, mp_holistic.FACEMESH_TESSELATION, spec)\n",
    "    mp_draw.draw_landmarks(image, results.pose_landmarks, mp_holistic.POSE_CONNECTIONS, spec)\n",
    "    mp_draw.draw_landmarks(image, results.left_hand_landmarks, mp_holistic.HAND_CONNECTIONS, spec)\n",
    "    mp_draw.draw_landmarks(image, results.right_hand_landmarks, mp_holistic.HAND_CONNECTIONS, spec)\n",
    "\n",
    "    \n",
    "\n",
    "def extract_landmarks(path, seq_len):\n",
    "    valid = True\n",
    "    video_reader = cv2.VideoCapture(path)\n",
    "    video_frames_count = int(video_reader.get(cv2.CAP_PROP_FRAME_COUNT))\n",
    "\n",
    "    if int(video_reader.get(cv2.CAP_PROP_FRAME_COUNT)) < seq_len:\n",
    "        valid = False\n",
    "    # print(int(video_reader.get(cv2.CAP_PROP_ FRAME_COUNT)))\n",
    "    skip_frames_window = max(int(video_frames_count/seq_len), 1)\n",
    "    landmark_list = []\n",
    "    image_list = []\n",
    " \n",
    "    for frame_counter in range(seq_len):\n",
    "        video_reader.set(cv2.CAP_PROP_POS_FRAMES, frame_counter * skip_frames_window)\n",
    "\n",
    "        success, frame = video_reader.read() \n",
    "        if not success:\n",
    "            break\n",
    "\n",
    "        resized_frame = cv2.resize(cv2.cvtColor(frame, cv2.COLOR_BGR2RGB), (480, 480))\n",
    "        \n",
    "        results = pose.process(resized_frame)\n",
    "\n",
    "        pose_lm = np.array([[res.x, res.y, res.z, res.visibility] for res in results.pose_landmarks.landmark]).flatten()  if results.pose_landmarks else np.zeros(132)\n",
    "        # face = np.array([[res.x, res.y, res.z] for res in results.face_landmarks.landmark]).flatten() if results.face_landmarks else np.zeros(1404)\n",
    "        # rh = np.array([[res.x, res.y, res.z] for res in results.right_hand_landmarks.landmark]).flatten() if results.right_hand_landmarks else np.zeros(63)\n",
    "        # lh = np.array([[res.x, res.y, res.z] for res in results.left_hand_landmarks.landmark]).flatten() if results.left_hand_landmarks else np.zeros(63)\n",
    "        \n",
    "        # lm_list = np.concatenate([pose, face, lh, rh])\n",
    "\n",
    "        # mp_draw.draw_landmarks(image, results.pose_landmarks, mp_holistic.POSE_CONNECTIONS, spec)\n",
    "\n",
    "        # draw(resized_frame, results)\n",
    "    \n",
    "\n",
    "        # image_list.append(resized_frame)\n",
    "        landmark_list.append(pose_lm)\n",
    "    \n",
    "    video_reader.release()\n",
    "\n",
    "    return np.array(landmark_list), valid#, image_list"
   ]
  },
  {
   "cell_type": "code",
   "execution_count": 10,
   "metadata": {},
   "outputs": [
    {
     "name": "stdout",
     "output_type": "stream",
     "text": [
      "(132,)\n",
      "True\n",
      "10\n"
     ]
    }
   ],
   "source": [
    "class_num =6\n",
    "vid_num = 19\n",
    "frame_num = 1\n",
    "\n",
    "tes_vid = data_path + '/' + classes[class_num] + '/' + os.listdir(data_path + '/' + classes[class_num])[vid_num]\n",
    "lm_list, valid = extract_landmarks(tes_vid, 10)\n",
    "\n",
    "\n",
    "print(lm_list[frame_num].shape)\n",
    "# plt.imshow(img_list[frame_num])\n",
    "print(valid)\n",
    "print(len(lm_list))"
   ]
  },
  {
   "cell_type": "code",
   "execution_count": 101,
   "metadata": {},
   "outputs": [],
   "source": [
    "def extract_landmarks(path, seq_len):\n",
    "    valid = True\n",
    "    video_reader = cv2.VideoCapture(path)\n",
    "    video_frames_count = int(video_reader.get(cv2.CAP_PROP_FRAME_COUNT))\n",
    "\n",
    "    if int(video_reader.get(cv2.CAP_PROP_FRAME_COUNT)) < seq_len:\n",
    "        valid = False\n",
    "    # print(int(video_reader.get(cv2.CAP_PROP_ FRAME_COUNT)))\n",
    "    skip_frames_window = max(int(video_frames_count/seq_len), 1)\n",
    "    landmark_list = []\n",
    "    # image_list = []\n",
    " \n",
    "    for frame_counter in range(seq_len):\n",
    "        video_reader.set(cv2.CAP_PROP_POS_FRAMES, frame_counter * skip_frames_window)\n",
    "\n",
    "        success, frame = video_reader.read() \n",
    "        if not success:\n",
    "            break\n",
    "\n",
    "        resized_frame = cv2.resize(cv2.cvtColor(frame, cv2.COLOR_BGR2RGB), (480, 480))\n",
    "        \n",
    "        results = holistic.process(resized_frame)\n",
    "\n",
    "        pose = np.array([[res.x, res.y, res.z, res.visibility] for res in results.pose_landmarks.landmark]).flatten()  if results.pose_landmarks else np.zeros(132)\n",
    "        face = np.array([[res.x, res.y, res.z] for res in results.face_landmarks.landmark]).flatten() if results.face_landmarks else np.zeros(1404)\n",
    "        rh = np.array([[res.x, res.y, res.z] for res in results.right_hand_landmarks.landmark]).flatten() if results.right_hand_landmarks else np.zeros(63)\n",
    "        lh = np.array([[res.x, res.y, res.z] for res in results.left_hand_landmarks.landmark]).flatten() if results.left_hand_landmarks else np.zeros(63)\n",
    "        \n",
    "        lm_list = np.concatenate([pose, face, lh, rh])\n",
    "\n",
    "        # draw(resized_frame, results)\n",
    "    \n",
    "\n",
    "        # image_list.append(resized_frame)\n",
    "        landmark_list.append(lm_list)\n",
    "    \n",
    "    video_reader.release()\n",
    "\n",
    "    return np.array(landmark_list), valid #, image_list"
   ]
  },
  {
   "cell_type": "code",
   "execution_count": 11,
   "metadata": {},
   "outputs": [],
   "source": [
    "def get_data(path, class_num, seq_len=SEQ_LEN):\n",
    "    data = []\n",
    "\n",
    "    vid_list = os.listdir(path)\n",
    "\n",
    "    if '.DS_Store' in vid_list:\n",
    "        vid_list.remove('.DS_Store') \n",
    "\n",
    "    for vid in vid_list:\n",
    "        vid_path = os.path.join(path, vid)\n",
    "        \n",
    "        lm, valid = extract_landmarks(vid_path, seq_len)\n",
    "    \n",
    "        if valid:\n",
    "            data.append(lm)\n",
    "    \n",
    "    labels = np.ones((len(data)))*class_num\n",
    "    print(f'Total Videos: {len(vid_list)}, Extracted Videos: {len(data)}')\n",
    "    return np.array(data), labels"
   ]
  },
  {
   "cell_type": "code",
   "execution_count": 20,
   "metadata": {},
   "outputs": [
    {
     "name": "stdout",
     "output_type": "stream",
     "text": [
      "Total Videos: 632, Extracted Videos: 556\n"
     ]
    }
   ],
   "source": [
    "class_num = 0\n",
    "fall = get_data(f\"{data_path}/{classes[class_num]}\", class_num)"
   ]
  },
  {
   "cell_type": "code",
   "execution_count": 19,
   "metadata": {},
   "outputs": [
    {
     "name": "stdout",
     "output_type": "stream",
     "text": [
      "Total Videos: 265, Extracted Videos: 261\n"
     ]
    }
   ],
   "source": [
    "class_num = 1\n",
    "sit = get_data(f\"{data_path}/{classes[class_num]}\", class_num)"
   ]
  },
  {
   "cell_type": "code",
   "execution_count": 18,
   "metadata": {},
   "outputs": [
    {
     "name": "stdout",
     "output_type": "stream",
     "text": [
      "Total Videos: 950, Extracted Videos: 930\n"
     ]
    }
   ],
   "source": [
    "class_num = 2\n",
    "walk = get_data(f\"{data_path}/{classes[class_num]}\", class_num)"
   ]
  },
  {
   "cell_type": "code",
   "execution_count": 17,
   "metadata": {},
   "outputs": [
    {
     "name": "stdout",
     "output_type": "stream",
     "text": [
      "Total Videos: 543, Extracted Videos: 489\n"
     ]
    }
   ],
   "source": [
    "class_num = 3\n",
    "lie = get_data(f\"{data_path}/{classes[class_num]}\", class_num)"
   ]
  },
  {
   "cell_type": "code",
   "execution_count": 16,
   "metadata": {},
   "outputs": [
    {
     "name": "stdout",
     "output_type": "stream",
     "text": [
      "Total Videos: 422, Extracted Videos: 410\n"
     ]
    }
   ],
   "source": [
    "class_num = 4\n",
    "stand_up = get_data(f\"{data_path}/{classes[class_num]}\", class_num)"
   ]
  },
  {
   "cell_type": "code",
   "execution_count": 15,
   "metadata": {},
   "outputs": [
    {
     "name": "stdout",
     "output_type": "stream",
     "text": [
      "Total Videos: 808, Extracted Videos: 698\n"
     ]
    }
   ],
   "source": [
    "class_num = 5\n",
    "standing = get_data(f\"{data_path}/{classes[class_num]}\", class_num)"
   ]
  },
  {
   "cell_type": "code",
   "execution_count": 14,
   "metadata": {},
   "outputs": [
    {
     "name": "stdout",
     "output_type": "stream",
     "text": [
      "Total Videos: 450, Extracted Videos: 432\n"
     ]
    }
   ],
   "source": [
    "class_num = 6\n",
    "sitting = get_data(f\"{data_path}/{classes[class_num]}\", class_num)"
   ]
  },
  {
   "cell_type": "code",
   "execution_count": 13,
   "metadata": {},
   "outputs": [
    {
     "name": "stdout",
     "output_type": "stream",
     "text": [
      "Total Videos: 58, Extracted Videos: 58\n"
     ]
    }
   ],
   "source": [
    "class_num = 7\n",
    "chest = get_data(f\"{data_path}/{classes[class_num]}\", class_num)"
   ]
  },
  {
   "cell_type": "code",
   "execution_count": 12,
   "metadata": {},
   "outputs": [
    {
     "name": "stdout",
     "output_type": "stream",
     "text": [
      "Total Videos: 37, Extracted Videos: 37\n"
     ]
    }
   ],
   "source": [
    "class_num = 8\n",
    "cough = get_data(f\"{data_path}/{classes[class_num]}\", class_num)"
   ]
  },
  {
   "cell_type": "code",
   "execution_count": 104,
   "metadata": {},
   "outputs": [
    {
     "data": {
      "text/plain": [
       "((37, 10, 1662), (37,))"
      ]
     },
     "execution_count": 104,
     "metadata": {},
     "output_type": "execute_result"
    }
   ],
   "source": [
    "cough[0].shape, cough[1].shape"
   ]
  },
  {
   "cell_type": "code",
   "execution_count": 21,
   "metadata": {},
   "outputs": [],
   "source": [
    "X = np.concatenate([fall[0], sit[0], walk[0], lie[0], stand_up[0], standing[0], sitting[0], chest[0], cough[0]], axis=0)\n",
    "y = np.concatenate([fall[1], sit[1], walk[1], lie[1], stand_up[1], standing[1], sitting[1], chest[1], cough[1]], axis=0)"
   ]
  },
  {
   "cell_type": "code",
   "execution_count": 22,
   "metadata": {},
   "outputs": [],
   "source": [
    "y =  np.expand_dims(y, -1)"
   ]
  },
  {
   "cell_type": "code",
   "execution_count": 23,
   "metadata": {},
   "outputs": [
    {
     "data": {
      "text/plain": [
       "((3871, 10, 132), (3871, 1))"
      ]
     },
     "execution_count": 23,
     "metadata": {},
     "output_type": "execute_result"
    }
   ],
   "source": [
    "X.shape, y.shape"
   ]
  },
  {
   "cell_type": "code",
   "execution_count": 24,
   "metadata": {},
   "outputs": [],
   "source": [
    "np.save(f'AI/data/X_final_seq_{SEQ_LEN}.npy', X)\n",
    "np.save(f'AI/data/y_final_seq_{SEQ_LEN}.npy', y)"
   ]
  }
 ],
 "metadata": {
  "kernelspec": {
   "display_name": "aienv",
   "language": "python",
   "name": "python3"
  },
  "language_info": {
   "codemirror_mode": {
    "name": "ipython",
    "version": 3
   },
   "file_extension": ".py",
   "mimetype": "text/x-python",
   "name": "python",
   "nbconvert_exporter": "python",
   "pygments_lexer": "ipython3",
   "version": "3.10.11"
  },
  "orig_nbformat": 4
 },
 "nbformat": 4,
 "nbformat_minor": 2
}
