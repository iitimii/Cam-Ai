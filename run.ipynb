{
 "cells": [
  {
   "cell_type": "code",
   "execution_count": 1,
   "metadata": {},
   "outputs": [],
   "source": [
    "import numpy as np\n",
    "import cv2\n",
    "from collections import deque\n",
    "import mediapipe as mp\n",
    "# from tensorflow.keras.saving import load_model\n",
    "import tensorflow.lite as lite"
   ]
  },
  {
   "cell_type": "code",
   "execution_count": 2,
   "metadata": {},
   "outputs": [],
   "source": [
    "SEQ_LEN = 10\n",
    "\n",
    "CLASSES_LIST =  ['Fall Down',\n",
    " 'Sitting down',\n",
    " 'Walking',\n",
    " 'Lying down',\n",
    " 'Standing up',\n",
    " 'Standing',\n",
    " 'Sitting',\n",
    " 'Chest Pain',\n",
    " 'Coughing']\n",
    "\n",
    "mp_pose = mp.solutions.pose\n",
    "pose = mp_pose.Pose(static_image_mode=False, min_detection_confidence=0.7, min_tracking_confidence=0.7, model_complexity=1)\n",
    "mp_draw = mp.solutions.drawing_utils\n"
   ]
  },
  {
   "cell_type": "code",
   "execution_count": 4,
   "metadata": {},
   "outputs": [],
   "source": [
    "def tflite_predict(X, interpreter):\n",
    "    interpreter.allocate_tensors()\n",
    "    interpreter.set_tensor(interpreter.get_input_details()[0]['index'], np.expand_dims(X, 0))\n",
    "    interpreter.invoke()\n",
    "    predictions = interpreter.get_tensor(interpreter.get_output_details()[0]['index'])\n",
    "    return predictions"
   ]
  },
  {
   "cell_type": "code",
   "execution_count": 5,
   "metadata": {},
   "outputs": [],
   "source": [
    "def pred_video(interpreter, vid=0 ,SEQUENCE_LENGTH=SEQ_LEN):\n",
    "    cap = cv2.VideoCapture(vid)\n",
    "    frames_queue = deque(maxlen = SEQUENCE_LENGTH)\n",
    "    predicted_class_name = ''\n",
    "    while cap.isOpened():\n",
    "        ret, org_frame = cap.read()\n",
    "        if not ret:\n",
    "            break\n",
    "        org_frame = cv2.flip(org_frame, 1)\n",
    "\n",
    "        frame = cv2.resize(org_frame, (256, 256))\n",
    "        frame = cv2.cvtColor(frame, cv2.COLOR_BGR2RGB)\n",
    "\n",
    "        results = pose.process(frame)\n",
    "\n",
    "        pose_lm = np.array([[res.x, res.y, res.z, res.visibility] for res in results.pose_landmarks.landmark]).flatten()  if results.pose_landmarks else np.zeros(132)\n",
    "        \n",
    "        mp_draw.draw_landmarks(org_frame, results.pose_landmarks, mp_pose.POSE_CONNECTIONS) \n",
    "\n",
    "        frames_queue.append(pose_lm.astype('float32'))\n",
    "\n",
    "        if len(frames_queue) == SEQUENCE_LENGTH:\n",
    "            \n",
    "            predicted_labels_probabilities = tflite_predict(frames_queue, interpreter)\n",
    "            \n",
    "            predicted_label = np.argmax(predicted_labels_probabilities)\n",
    "\n",
    "            predicted_class_name = CLASSES_LIST[predicted_label]\n",
    "\n",
    "\n",
    "        cv2.putText(org_frame, predicted_class_name, (30, 50), cv2.FONT_HERSHEY_SIMPLEX, 2, (255, 255, 255), 5) if results.pose_landmarks else cv2.putText(org_frame, 'No Action', (30, 50), cv2.FONT_HERSHEY_SIMPLEX, 2, (255, 255, 255), 5)\n",
    "\n",
    "        cv2.imshow('frame', org_frame)\n",
    "\n",
    "        if cv2.waitKey(1) & 0xFF == ord('q'):\n",
    "            cap.release()\n",
    "            cv2.destroyAllWindows()\n",
    "            break\n",
    "    cap.release()\n",
    "    cv2.destroyAllWindows()\n",
    "\n",
    "    "
   ]
  },
  {
   "cell_type": "code",
   "execution_count": 6,
   "metadata": {},
   "outputs": [
    {
     "name": "stderr",
     "output_type": "stream",
     "text": [
      "INFO: Created TensorFlow Lite XNNPACK delegate for CPU.\n"
     ]
    }
   ],
   "source": [
    "TF_LITE_MODEL_NAME = 'final_model.tflite'\n",
    "interpreter = lite.Interpreter(TF_LITE_MODEL_NAME)\n",
    "\n",
    "vid_path = 0\n",
    "pred_video(interpreter, vid=vid_path)"
   ]
  },
  {
   "cell_type": "code",
   "execution_count": null,
   "metadata": {},
   "outputs": [],
   "source": []
  }
 ],
 "metadata": {
  "kernelspec": {
   "display_name": "aienv",
   "language": "python",
   "name": "python3"
  },
  "language_info": {
   "codemirror_mode": {
    "name": "ipython",
    "version": 3
   },
   "file_extension": ".py",
   "mimetype": "text/x-python",
   "name": "python",
   "nbconvert_exporter": "python",
   "pygments_lexer": "ipython3",
   "version": "3.10.11"
  },
  "orig_nbformat": 4
 },
 "nbformat": 4,
 "nbformat_minor": 2
}
